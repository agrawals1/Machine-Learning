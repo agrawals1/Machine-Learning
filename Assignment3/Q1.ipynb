{
 "cells": [
  {
   "cell_type": "code",
   "execution_count": 45,
   "metadata": {},
   "outputs": [],
   "source": [
    "import numpy as np\n",
    "import pandas as pd\n",
    "import matplotlib\n",
    "%matplotlib inline\n",
    "import matplotlib.pyplot as matplot\n",
    "from sklearn.decomposition import PCA\n",
    "import random\n",
    "from IPython.display import display, HTML\n",
    "from itertools import chain\n",
    "from sklearn.metrics import confusion_matrix\n",
    "from sklearn.metrics import accuracy_score\n",
    "import seaborn as sb\n",
    "from sklearn.model_selection import ParameterGrid\n",
    "from sklearn.svm import SVC, LinearSVC\n",
    "import warnings\n",
    "warnings.filterwarnings('ignore')"
   ]
  },
  {
   "cell_type": "markdown",
   "metadata": {},
   "source": [
    "Q1(a)(i) \n",
    "Load MNIST dataset. After necessary data preparation, build a linear SVM classifier. (5 points)"
   ]
  },
  {
   "cell_type": "code",
   "execution_count": 2,
   "metadata": {},
   "outputs": [
    {
     "name": "stderr",
     "output_type": "stream",
     "text": [
      "2022-11-05 15:29:02.862040: I tensorflow/core/platform/cpu_feature_guard.cc:193] This TensorFlow binary is optimized with oneAPI Deep Neural Network Library (oneDNN) to use the following CPU instructions in performance-critical operations:  AVX2 FMA\n",
      "To enable them in other operations, rebuild TensorFlow with the appropriate compiler flags.\n",
      "2022-11-05 15:29:03.006257: W tensorflow/stream_executor/platform/default/dso_loader.cc:64] Could not load dynamic library 'libcudart.so.11.0'; dlerror: libcudart.so.11.0: cannot open shared object file: No such file or directory\n",
      "2022-11-05 15:29:03.006282: I tensorflow/stream_executor/cuda/cudart_stub.cc:29] Ignore above cudart dlerror if you do not have a GPU set up on your machine.\n",
      "2022-11-05 15:29:03.048860: E tensorflow/stream_executor/cuda/cuda_blas.cc:2981] Unable to register cuBLAS factory: Attempting to register factory for plugin cuBLAS when one has already been registered\n",
      "2022-11-05 15:29:03.937639: W tensorflow/stream_executor/platform/default/dso_loader.cc:64] Could not load dynamic library 'libnvinfer.so.7'; dlerror: libnvinfer.so.7: cannot open shared object file: No such file or directory\n",
      "2022-11-05 15:29:03.937790: W tensorflow/stream_executor/platform/default/dso_loader.cc:64] Could not load dynamic library 'libnvinfer_plugin.so.7'; dlerror: libnvinfer_plugin.so.7: cannot open shared object file: No such file or directory\n",
      "2022-11-05 15:29:03.937803: W tensorflow/compiler/tf2tensorrt/utils/py_utils.cc:38] TF-TRT Warning: Cannot dlopen some TensorRT libraries. If you would like to use Nvidia GPU with TensorRT, please make sure the missing libraries mentioned above are installed properly.\n"
     ]
    }
   ],
   "source": [
    "import tensorflow as tf\n",
    "(train_images, train_labels), (test_images, test_labels) = tf.keras.datasets.mnist.load_data()"
   ]
  },
  {
   "cell_type": "code",
   "execution_count": 3,
   "metadata": {},
   "outputs": [
    {
     "name": "stdout",
     "output_type": "stream",
     "text": [
      "(60000, 28, 28)\n",
      "(10000, 28, 28)\n"
     ]
    }
   ],
   "source": [
    "print(train_images.shape)\n",
    "print(test_images.shape)"
   ]
  },
  {
   "cell_type": "code",
   "execution_count": 4,
   "metadata": {},
   "outputs": [],
   "source": [
    "train_images = train_images/255.0"
   ]
  },
  {
   "cell_type": "code",
   "execution_count": 5,
   "metadata": {},
   "outputs": [],
   "source": [
    "test_images = test_images/255.0"
   ]
  },
  {
   "cell_type": "code",
   "execution_count": 6,
   "metadata": {},
   "outputs": [],
   "source": [
    "train_images = np.reshape(train_images, (60000, 784))\n",
    "test_images = np.reshape(test_images, (10000, 784))"
   ]
  },
  {
   "cell_type": "code",
   "execution_count": 7,
   "metadata": {},
   "outputs": [
    {
     "name": "stdout",
     "output_type": "stream",
     "text": [
      "(60000, 784)\n",
      "(10000, 784)\n"
     ]
    }
   ],
   "source": [
    "print(train_images.shape)\n",
    "print(test_images.shape)"
   ]
  },
  {
   "cell_type": "code",
   "execution_count": 46,
   "metadata": {},
   "outputs": [],
   "source": [
    "pca = PCA(n_components=33, whiten=True)\n",
    "train_images = pca.fit_transform(train_images)\n",
    "test_images = pca.transform(test_images)"
   ]
  },
  {
   "cell_type": "code",
   "execution_count": 47,
   "metadata": {},
   "outputs": [
    {
     "data": {
      "text/plain": [
       "0.8889"
      ]
     },
     "execution_count": 47,
     "metadata": {},
     "output_type": "execute_result"
    }
   ],
   "source": [
    "svm = LinearSVC(dual=False)\n",
    "svm.fit(train_images, train_labels)\n",
    "pred = svm.predict(test_images)\n",
    "accuracy_score(test_labels, pred) "
   ]
  },
  {
   "cell_type": "markdown",
   "metadata": {},
   "source": [
    "ii. Show the predictions for first twenty values of your test dataset. Display the confusion matrix. (4\n",
    "points)"
   ]
  },
  {
   "cell_type": "code",
   "execution_count": 48,
   "metadata": {},
   "outputs": [
    {
     "name": "stdout",
     "output_type": "stream",
     "text": [
      "7\n",
      "2\n",
      "1\n",
      "0\n",
      "4\n",
      "1\n",
      "4\n",
      "9\n",
      "6\n",
      "9\n",
      "0\n",
      "6\n",
      "9\n",
      "0\n",
      "1\n",
      "5\n",
      "9\n",
      "7\n",
      "3\n",
      "4\n"
     ]
    }
   ],
   "source": [
    "for i in range(20):\n",
    "    print(pred[i])"
   ]
  },
  {
   "cell_type": "code",
   "execution_count": 49,
   "metadata": {},
   "outputs": [
    {
     "name": "stdout",
     "output_type": "stream",
     "text": [
      "[[ 955    0    2    2    1    8    8    2    2    0]\n",
      " [   0 1108    3    2    0    3    4    1   14    0]\n",
      " [  11   10  879   21   15    4   18   20   46    8]\n",
      " [   4    1   24  892    1   37    5   12   21   13]\n",
      " [   4    3    7    0  889    6   10    2    6   55]\n",
      " [  21    3    5   57   27  691   26   14   35   13]\n",
      " [  17    3    6    2   11   14  899    2    4    0]\n",
      " [   6   14   29    1   14    0    0  933    3   28]\n",
      " [  16   10   12   33   12   40   15   13  807   16]\n",
      " [  12   10    6    9   54   29    1   39   13  836]]\n"
     ]
    }
   ],
   "source": [
    "confmat = confusion_matrix(test_labels, pred)\n",
    "print(confmat)"
   ]
  },
  {
   "cell_type": "markdown",
   "metadata": {},
   "source": [
    "Write your own function to calculate class-wise F1 score. "
   ]
  },
  {
   "cell_type": "code",
   "execution_count": 17,
   "metadata": {},
   "outputs": [
    {
     "data": {
      "text/plain": [
       "numpy.ndarray"
      ]
     },
     "execution_count": 17,
     "metadata": {},
     "output_type": "execute_result"
    }
   ],
   "source": [
    "type(confmat)"
   ]
  },
  {
   "cell_type": "code",
   "execution_count": 50,
   "metadata": {},
   "outputs": [
    {
     "name": "stdout",
     "output_type": "stream",
     "text": [
      "[0.9130019120458891, 0.9535283993115319, 0.9033915724563206, 0.8753680078508341, 0.8681640625, 0.8305288461538461, 0.9117647058823529, 0.8988439306358381, 0.8485804416403786, 0.8627450980392157]\n",
      "[0.9744897959183674, 0.9762114537444934, 0.8517441860465116, 0.8831683168316832, 0.905295315682281, 0.7746636771300448, 0.9384133611691023, 0.9075875486381323, 0.8285420944558521, 0.8285431119920713]\n"
     ]
    }
   ],
   "source": [
    "from operator import le\n",
    "\n",
    "\n",
    "prec_list = confmat.sum(axis=0)\n",
    "recall_list = confmat.sum(axis=1)\n",
    "precisions = []\n",
    "recalls = []\n",
    "for i in range(10):\n",
    "    precisions.append(float(confmat[i][i])/prec_list[i])\n",
    "    recalls.append(float(confmat[i][i])/recall_list[i])\n",
    "\n",
    "print(precisions)\n",
    "print(recalls)\n"
   ]
  },
  {
   "cell_type": "code",
   "execution_count": 51,
   "metadata": {},
   "outputs": [
    {
     "name": "stdout",
     "output_type": "stream",
     "text": [
      "[0.9427443237907207, 0.9647366129734436, 0.8768079800498753, 0.8792508624938394, 0.8863409770687937, 0.8016241299303944, 0.9248971193415639, 0.9031945788964182, 0.8384415584415584, 0.845298281092012]\n"
     ]
    }
   ],
   "source": [
    "def f1(pr):\n",
    "    (p,r) = pr\n",
    "    return (2*(p*r)/(p+r))\n",
    "f1s = list(map(f1, zip(precisions, recalls)))\n",
    "\n",
    "print(f1s)"
   ]
  },
  {
   "cell_type": "markdown",
   "metadata": {},
   "source": [
    "Check the F1 scores using sklearn inbuilt function and compare the value with the F1 scores returned\n",
    "by your function written from scratch. Also, report the accuracy."
   ]
  },
  {
   "cell_type": "code",
   "execution_count": 52,
   "metadata": {},
   "outputs": [],
   "source": [
    "from sklearn.metrics import f1_score\n",
    "f1s_scikit = f1_score(test_labels, pred, average=None)\n"
   ]
  },
  {
   "cell_type": "code",
   "execution_count": 53,
   "metadata": {},
   "outputs": [
    {
     "name": "stdout",
     "output_type": "stream",
     "text": [
      "[0.9427443237907207, 0.9647366129734436, 0.8768079800498753, 0.8792508624938394, 0.8863409770687937, 0.8016241299303944, 0.9248971193415639, 0.9031945788964182, 0.8384415584415584, 0.845298281092012]\n",
      "[0.94274432 0.96473661 0.87680798 0.87925086 0.88634098 0.80162413\n",
      " 0.92489712 0.90319458 0.83844156 0.84529828]\n"
     ]
    }
   ],
   "source": [
    "print(f1s)\n",
    "print(f1s_scikit)\n"
   ]
  },
  {
   "cell_type": "code",
   "execution_count": 54,
   "metadata": {},
   "outputs": [
    {
     "data": {
      "text/plain": [
       "0.8889"
      ]
     },
     "execution_count": 54,
     "metadata": {},
     "output_type": "execute_result"
    }
   ],
   "source": [
    "accuracy_score(test_labels, pred)"
   ]
  },
  {
   "cell_type": "markdown",
   "metadata": {},
   "source": [
    "(b) Non linear SVM:\n",
    "Build non-linear models with the RBF kernel as well as polynomial kernel. Report the accuracy. (5 points)"
   ]
  },
  {
   "cell_type": "code",
   "execution_count": 55,
   "metadata": {},
   "outputs": [
    {
     "name": "stdout",
     "output_type": "stream",
     "text": [
      "0.9816\n"
     ]
    }
   ],
   "source": [
    "svm = SVC(kernel='rbf')\n",
    "svm.fit(train_images, train_labels)\n",
    "pred = svm.predict(test_images)\n",
    "print(accuracy_score(test_labels, pred) )"
   ]
  },
  {
   "cell_type": "code",
   "execution_count": 56,
   "metadata": {},
   "outputs": [
    {
     "name": "stdout",
     "output_type": "stream",
     "text": [
      "0.9802\n"
     ]
    }
   ],
   "source": [
    "svm = SVC(kernel='poly')\n",
    "svm.fit(train_images, train_labels)\n",
    "pred = svm.predict(test_images)\n",
    "print(accuracy_score(test_labels, pred) )"
   ]
  },
  {
   "cell_type": "code",
   "execution_count": 58,
   "metadata": {},
   "outputs": [
    {
     "name": "stdout",
     "output_type": "stream",
     "text": [
      "Fitting 5 folds for each of 6 candidates, totalling 30 fits\n"
     ]
    }
   ],
   "source": [
    "from sklearn.model_selection import RepeatedStratifiedKFold\n",
    "from sklearn.model_selection import GridSearchCV\n",
    "\n",
    "\n",
    "# specify range of hyperparameters\n",
    "# Set the parameters by cross-validation\n",
    "hyper_params = [ {'gamma': [1e-2, 1e-3, 1e-4],\n",
    "                     'C': [5,10]}]\n",
    "\n",
    "\n",
    "# specify model\n",
    "model_svc = SVC(kernel=\"rbf\")\n",
    "\n",
    "# set up GridSearchCV()\n",
    "model_cv = GridSearchCV(estimator = model_svc, \n",
    "                        param_grid = hyper_params, \n",
    "                        scoring= 'accuracy', \n",
    "                        cv = 5, \n",
    "                        return_train_score=True,n_jobs=-1)      \n",
    "\n",
    "# fit the model\n",
    "model_cv.fit(pd.DataFrame(train_images).sample(frac=0.5,random_state=2), pd.DataFrame(train_labels).sample(frac=0.5,random_state=2))"
   ]
  },
  {
   "cell_type": "code",
   "execution_count": 61,
   "metadata": {},
   "outputs": [
    {
     "name": "stdout",
     "output_type": "stream",
     "text": [
      "0.9757333333333333\n",
      "{'C': 10, 'gamma': 0.01}\n"
     ]
    }
   ],
   "source": [
    "print(model_cv.best_score_)\n",
    "print(model_cv.best_params_)"
   ]
  },
  {
   "cell_type": "markdown",
   "metadata": {},
   "source": [
    "1(d)-build the final model with chosen hyperparameters. Report confusion matrix, accuracy"
   ]
  },
  {
   "cell_type": "code",
   "execution_count": 64,
   "metadata": {},
   "outputs": [
    {
     "name": "stdout",
     "output_type": "stream",
     "text": [
      "accuracy 0.9762 \n",
      "\n",
      "[[ 972    0    2    0    0    1    1    1    2    1]\n",
      " [   1 1129    1    1    0    0    1    1    1    0]\n",
      " [   4    3 1005    1    2    0    1   10    5    1]\n",
      " [   0    0    3  985    0    8    0    8    4    2]\n",
      " [   2    2    4    0  953    0    3    1    1   16]\n",
      " [   3    0    1    9    0  873    1    1    3    1]\n",
      " [   6    2    1    0    5    4  936    1    3    0]\n",
      " [   0    8   13    2    0    0    0  999    0    6]\n",
      " [   2    0    2    7    4    4    1    4  947    3]\n",
      " [   4    4    0    7   12    7    0    6    6  963]] \n",
      "\n"
     ]
    }
   ],
   "source": [
    "from sklearn import metrics\n",
    "\n",
    "model_best = SVC(C=10, gamma=0.01, kernel=\"rbf\")\n",
    "model_best.fit(pd.DataFrame(train_images).sample(frac=0.5,random_state=2), pd.DataFrame(train_labels).sample(frac=0.5,random_state=2))\n",
    "y_pred = model_best.predict(test_images)\n",
    "\n",
    "print(\"accuracy\", metrics.accuracy_score(test_labels, y_pred), \"\\n\")\n",
    "print(metrics.confusion_matrix(test_labels, y_pred), \"\\n\")"
   ]
  },
  {
   "cell_type": "markdown",
   "metadata": {},
   "source": [
    "Q1 - (e)"
   ]
  },
  {
   "cell_type": "code",
   "execution_count": 67,
   "metadata": {},
   "outputs": [
    {
     "name": "stdout",
     "output_type": "stream",
     "text": [
      "sv x-train df\n"
     ]
    },
    {
     "data": {
      "text/html": [
       "<div>\n",
       "<style scoped>\n",
       "    .dataframe tbody tr th:only-of-type {\n",
       "        vertical-align: middle;\n",
       "    }\n",
       "\n",
       "    .dataframe tbody tr th {\n",
       "        vertical-align: top;\n",
       "    }\n",
       "\n",
       "    .dataframe thead th {\n",
       "        text-align: right;\n",
       "    }\n",
       "</style>\n",
       "<table border=\"1\" class=\"dataframe\">\n",
       "  <thead>\n",
       "    <tr style=\"text-align: right;\">\n",
       "      <th></th>\n",
       "      <th>0</th>\n",
       "      <th>1</th>\n",
       "      <th>2</th>\n",
       "      <th>3</th>\n",
       "      <th>4</th>\n",
       "      <th>5</th>\n",
       "      <th>6</th>\n",
       "      <th>7</th>\n",
       "      <th>8</th>\n",
       "      <th>9</th>\n",
       "      <th>...</th>\n",
       "      <th>23</th>\n",
       "      <th>24</th>\n",
       "      <th>25</th>\n",
       "      <th>26</th>\n",
       "      <th>27</th>\n",
       "      <th>28</th>\n",
       "      <th>29</th>\n",
       "      <th>30</th>\n",
       "      <th>31</th>\n",
       "      <th>32</th>\n",
       "    </tr>\n",
       "  </thead>\n",
       "  <tbody>\n",
       "    <tr>\n",
       "      <th>5</th>\n",
       "      <td>0.319802</td>\n",
       "      <td>0.448732</td>\n",
       "      <td>1.285846</td>\n",
       "      <td>0.120752</td>\n",
       "      <td>0.801338</td>\n",
       "      <td>0.808000</td>\n",
       "      <td>-0.094415</td>\n",
       "      <td>0.313504</td>\n",
       "      <td>-0.152826</td>\n",
       "      <td>0.385639</td>\n",
       "      <td>...</td>\n",
       "      <td>-1.820543</td>\n",
       "      <td>-0.984886</td>\n",
       "      <td>-0.306983</td>\n",
       "      <td>-1.306892</td>\n",
       "      <td>-1.325258</td>\n",
       "      <td>-0.651355</td>\n",
       "      <td>-0.104699</td>\n",
       "      <td>-1.303714</td>\n",
       "      <td>-1.430368</td>\n",
       "      <td>0.250358</td>\n",
       "    </tr>\n",
       "    <tr>\n",
       "      <th>56</th>\n",
       "      <td>2.294076</td>\n",
       "      <td>0.021281</td>\n",
       "      <td>-0.639979</td>\n",
       "      <td>-0.502469</td>\n",
       "      <td>-1.723804</td>\n",
       "      <td>1.434764</td>\n",
       "      <td>0.973948</td>\n",
       "      <td>-2.107978</td>\n",
       "      <td>1.542318</td>\n",
       "      <td>0.207205</td>\n",
       "      <td>...</td>\n",
       "      <td>-0.495132</td>\n",
       "      <td>1.378227</td>\n",
       "      <td>0.095164</td>\n",
       "      <td>-1.753846</td>\n",
       "      <td>1.554485</td>\n",
       "      <td>-0.101968</td>\n",
       "      <td>-0.208043</td>\n",
       "      <td>-1.108610</td>\n",
       "      <td>-0.388647</td>\n",
       "      <td>2.818461</td>\n",
       "    </tr>\n",
       "    <tr>\n",
       "      <th>148</th>\n",
       "      <td>-0.700765</td>\n",
       "      <td>0.632395</td>\n",
       "      <td>0.474044</td>\n",
       "      <td>0.165393</td>\n",
       "      <td>0.359867</td>\n",
       "      <td>0.236551</td>\n",
       "      <td>0.312470</td>\n",
       "      <td>-0.482769</td>\n",
       "      <td>-1.660833</td>\n",
       "      <td>-0.193065</td>\n",
       "      <td>...</td>\n",
       "      <td>-0.174054</td>\n",
       "      <td>1.003151</td>\n",
       "      <td>-1.112420</td>\n",
       "      <td>0.805269</td>\n",
       "      <td>0.391175</td>\n",
       "      <td>0.490304</td>\n",
       "      <td>0.045258</td>\n",
       "      <td>-0.775300</td>\n",
       "      <td>1.561168</td>\n",
       "      <td>-0.003438</td>\n",
       "    </tr>\n",
       "    <tr>\n",
       "      <th>159</th>\n",
       "      <td>0.341488</td>\n",
       "      <td>-0.106663</td>\n",
       "      <td>0.668699</td>\n",
       "      <td>0.982034</td>\n",
       "      <td>0.984839</td>\n",
       "      <td>1.755431</td>\n",
       "      <td>0.710409</td>\n",
       "      <td>-0.396602</td>\n",
       "      <td>-0.133186</td>\n",
       "      <td>1.126085</td>\n",
       "      <td>...</td>\n",
       "      <td>1.139030</td>\n",
       "      <td>-1.909130</td>\n",
       "      <td>0.694019</td>\n",
       "      <td>0.577981</td>\n",
       "      <td>0.160698</td>\n",
       "      <td>-0.813433</td>\n",
       "      <td>-0.271831</td>\n",
       "      <td>-0.628725</td>\n",
       "      <td>-0.756666</td>\n",
       "      <td>1.696593</td>\n",
       "    </tr>\n",
       "    <tr>\n",
       "      <th>362</th>\n",
       "      <td>-0.513831</td>\n",
       "      <td>1.613086</td>\n",
       "      <td>0.002887</td>\n",
       "      <td>-0.641181</td>\n",
       "      <td>0.672257</td>\n",
       "      <td>-0.726260</td>\n",
       "      <td>0.093434</td>\n",
       "      <td>-0.443538</td>\n",
       "      <td>-0.704793</td>\n",
       "      <td>0.649866</td>\n",
       "      <td>...</td>\n",
       "      <td>-1.716197</td>\n",
       "      <td>1.423122</td>\n",
       "      <td>-1.335225</td>\n",
       "      <td>0.862446</td>\n",
       "      <td>-0.440255</td>\n",
       "      <td>0.625936</td>\n",
       "      <td>1.226752</td>\n",
       "      <td>-0.701345</td>\n",
       "      <td>0.122208</td>\n",
       "      <td>-2.147576</td>\n",
       "    </tr>\n",
       "    <tr>\n",
       "      <th>...</th>\n",
       "      <td>...</td>\n",
       "      <td>...</td>\n",
       "      <td>...</td>\n",
       "      <td>...</td>\n",
       "      <td>...</td>\n",
       "      <td>...</td>\n",
       "      <td>...</td>\n",
       "      <td>...</td>\n",
       "      <td>...</td>\n",
       "      <td>...</td>\n",
       "      <td>...</td>\n",
       "      <td>...</td>\n",
       "      <td>...</td>\n",
       "      <td>...</td>\n",
       "      <td>...</td>\n",
       "      <td>...</td>\n",
       "      <td>...</td>\n",
       "      <td>...</td>\n",
       "      <td>...</td>\n",
       "      <td>...</td>\n",
       "      <td>...</td>\n",
       "    </tr>\n",
       "    <tr>\n",
       "      <th>29503</th>\n",
       "      <td>0.957106</td>\n",
       "      <td>0.788084</td>\n",
       "      <td>-1.033672</td>\n",
       "      <td>0.699591</td>\n",
       "      <td>-0.257587</td>\n",
       "      <td>0.117391</td>\n",
       "      <td>-2.704520</td>\n",
       "      <td>1.701084</td>\n",
       "      <td>1.895972</td>\n",
       "      <td>-1.999785</td>\n",
       "      <td>...</td>\n",
       "      <td>1.034368</td>\n",
       "      <td>-0.796359</td>\n",
       "      <td>-0.108388</td>\n",
       "      <td>0.448244</td>\n",
       "      <td>2.158050</td>\n",
       "      <td>-1.286618</td>\n",
       "      <td>-1.533533</td>\n",
       "      <td>0.991896</td>\n",
       "      <td>2.085807</td>\n",
       "      <td>-2.424059</td>\n",
       "    </tr>\n",
       "    <tr>\n",
       "      <th>29730</th>\n",
       "      <td>-1.025864</td>\n",
       "      <td>0.277623</td>\n",
       "      <td>0.182794</td>\n",
       "      <td>1.272015</td>\n",
       "      <td>-1.192859</td>\n",
       "      <td>-0.534704</td>\n",
       "      <td>-0.894572</td>\n",
       "      <td>-0.727299</td>\n",
       "      <td>0.282813</td>\n",
       "      <td>-0.757105</td>\n",
       "      <td>...</td>\n",
       "      <td>-0.889170</td>\n",
       "      <td>0.360880</td>\n",
       "      <td>-0.856711</td>\n",
       "      <td>-1.079449</td>\n",
       "      <td>-0.109660</td>\n",
       "      <td>0.040884</td>\n",
       "      <td>0.645604</td>\n",
       "      <td>-1.495391</td>\n",
       "      <td>0.594210</td>\n",
       "      <td>1.038756</td>\n",
       "    </tr>\n",
       "    <tr>\n",
       "      <th>29781</th>\n",
       "      <td>-0.919668</td>\n",
       "      <td>-0.139007</td>\n",
       "      <td>1.318588</td>\n",
       "      <td>-0.214717</td>\n",
       "      <td>-1.066033</td>\n",
       "      <td>-0.019375</td>\n",
       "      <td>-0.509173</td>\n",
       "      <td>0.140657</td>\n",
       "      <td>1.056732</td>\n",
       "      <td>-1.360548</td>\n",
       "      <td>...</td>\n",
       "      <td>1.510828</td>\n",
       "      <td>2.065887</td>\n",
       "      <td>-0.519124</td>\n",
       "      <td>-0.029540</td>\n",
       "      <td>0.602503</td>\n",
       "      <td>0.451471</td>\n",
       "      <td>2.378685</td>\n",
       "      <td>0.251800</td>\n",
       "      <td>0.212291</td>\n",
       "      <td>0.456999</td>\n",
       "    </tr>\n",
       "    <tr>\n",
       "      <th>29854</th>\n",
       "      <td>0.139923</td>\n",
       "      <td>1.363941</td>\n",
       "      <td>-0.362641</td>\n",
       "      <td>1.879431</td>\n",
       "      <td>-0.079606</td>\n",
       "      <td>1.092127</td>\n",
       "      <td>-1.891040</td>\n",
       "      <td>1.092463</td>\n",
       "      <td>0.312300</td>\n",
       "      <td>-0.604564</td>\n",
       "      <td>...</td>\n",
       "      <td>-0.148259</td>\n",
       "      <td>0.524891</td>\n",
       "      <td>-0.451714</td>\n",
       "      <td>-1.169831</td>\n",
       "      <td>0.398186</td>\n",
       "      <td>-0.557387</td>\n",
       "      <td>0.917255</td>\n",
       "      <td>-0.031470</td>\n",
       "      <td>1.724624</td>\n",
       "      <td>-1.717456</td>\n",
       "    </tr>\n",
       "    <tr>\n",
       "      <th>29968</th>\n",
       "      <td>-1.711231</td>\n",
       "      <td>-0.634961</td>\n",
       "      <td>0.122460</td>\n",
       "      <td>-0.149425</td>\n",
       "      <td>-0.940696</td>\n",
       "      <td>-0.056055</td>\n",
       "      <td>0.905226</td>\n",
       "      <td>-0.378165</td>\n",
       "      <td>0.221619</td>\n",
       "      <td>-0.169958</td>\n",
       "      <td>...</td>\n",
       "      <td>0.334427</td>\n",
       "      <td>-0.798544</td>\n",
       "      <td>0.645634</td>\n",
       "      <td>1.314304</td>\n",
       "      <td>-0.434810</td>\n",
       "      <td>-0.999650</td>\n",
       "      <td>-0.510419</td>\n",
       "      <td>0.347119</td>\n",
       "      <td>0.341459</td>\n",
       "      <td>-0.203782</td>\n",
       "    </tr>\n",
       "  </tbody>\n",
       "</table>\n",
       "<p>5383 rows × 33 columns</p>\n",
       "</div>"
      ],
      "text/plain": [
       "             0         1         2         3         4         5         6   \\\n",
       "5      0.319802  0.448732  1.285846  0.120752  0.801338  0.808000 -0.094415   \n",
       "56     2.294076  0.021281 -0.639979 -0.502469 -1.723804  1.434764  0.973948   \n",
       "148   -0.700765  0.632395  0.474044  0.165393  0.359867  0.236551  0.312470   \n",
       "159    0.341488 -0.106663  0.668699  0.982034  0.984839  1.755431  0.710409   \n",
       "362   -0.513831  1.613086  0.002887 -0.641181  0.672257 -0.726260  0.093434   \n",
       "...         ...       ...       ...       ...       ...       ...       ...   \n",
       "29503  0.957106  0.788084 -1.033672  0.699591 -0.257587  0.117391 -2.704520   \n",
       "29730 -1.025864  0.277623  0.182794  1.272015 -1.192859 -0.534704 -0.894572   \n",
       "29781 -0.919668 -0.139007  1.318588 -0.214717 -1.066033 -0.019375 -0.509173   \n",
       "29854  0.139923  1.363941 -0.362641  1.879431 -0.079606  1.092127 -1.891040   \n",
       "29968 -1.711231 -0.634961  0.122460 -0.149425 -0.940696 -0.056055  0.905226   \n",
       "\n",
       "             7         8         9   ...        23        24        25  \\\n",
       "5      0.313504 -0.152826  0.385639  ... -1.820543 -0.984886 -0.306983   \n",
       "56    -2.107978  1.542318  0.207205  ... -0.495132  1.378227  0.095164   \n",
       "148   -0.482769 -1.660833 -0.193065  ... -0.174054  1.003151 -1.112420   \n",
       "159   -0.396602 -0.133186  1.126085  ...  1.139030 -1.909130  0.694019   \n",
       "362   -0.443538 -0.704793  0.649866  ... -1.716197  1.423122 -1.335225   \n",
       "...         ...       ...       ...  ...       ...       ...       ...   \n",
       "29503  1.701084  1.895972 -1.999785  ...  1.034368 -0.796359 -0.108388   \n",
       "29730 -0.727299  0.282813 -0.757105  ... -0.889170  0.360880 -0.856711   \n",
       "29781  0.140657  1.056732 -1.360548  ...  1.510828  2.065887 -0.519124   \n",
       "29854  1.092463  0.312300 -0.604564  ... -0.148259  0.524891 -0.451714   \n",
       "29968 -0.378165  0.221619 -0.169958  ...  0.334427 -0.798544  0.645634   \n",
       "\n",
       "             26        27        28        29        30        31        32  \n",
       "5     -1.306892 -1.325258 -0.651355 -0.104699 -1.303714 -1.430368  0.250358  \n",
       "56    -1.753846  1.554485 -0.101968 -0.208043 -1.108610 -0.388647  2.818461  \n",
       "148    0.805269  0.391175  0.490304  0.045258 -0.775300  1.561168 -0.003438  \n",
       "159    0.577981  0.160698 -0.813433 -0.271831 -0.628725 -0.756666  1.696593  \n",
       "362    0.862446 -0.440255  0.625936  1.226752 -0.701345  0.122208 -2.147576  \n",
       "...         ...       ...       ...       ...       ...       ...       ...  \n",
       "29503  0.448244  2.158050 -1.286618 -1.533533  0.991896  2.085807 -2.424059  \n",
       "29730 -1.079449 -0.109660  0.040884  0.645604 -1.495391  0.594210  1.038756  \n",
       "29781 -0.029540  0.602503  0.451471  2.378685  0.251800  0.212291  0.456999  \n",
       "29854 -1.169831  0.398186 -0.557387  0.917255 -0.031470  1.724624 -1.717456  \n",
       "29968  1.314304 -0.434810 -0.999650 -0.510419  0.347119  0.341459 -0.203782  \n",
       "\n",
       "[5383 rows x 33 columns]"
      ]
     },
     "metadata": {},
     "output_type": "display_data"
    },
    {
     "name": "stdout",
     "output_type": "stream",
     "text": [
      "sv y-train df\n"
     ]
    },
    {
     "data": {
      "text/html": [
       "<div>\n",
       "<style scoped>\n",
       "    .dataframe tbody tr th:only-of-type {\n",
       "        vertical-align: middle;\n",
       "    }\n",
       "\n",
       "    .dataframe tbody tr th {\n",
       "        vertical-align: top;\n",
       "    }\n",
       "\n",
       "    .dataframe thead th {\n",
       "        text-align: right;\n",
       "    }\n",
       "</style>\n",
       "<table border=\"1\" class=\"dataframe\">\n",
       "  <thead>\n",
       "    <tr style=\"text-align: right;\">\n",
       "      <th></th>\n",
       "      <th>0</th>\n",
       "    </tr>\n",
       "  </thead>\n",
       "  <tbody>\n",
       "    <tr>\n",
       "      <th>5</th>\n",
       "      <td>2</td>\n",
       "    </tr>\n",
       "    <tr>\n",
       "      <th>56</th>\n",
       "      <td>0</td>\n",
       "    </tr>\n",
       "    <tr>\n",
       "      <th>148</th>\n",
       "      <td>7</td>\n",
       "    </tr>\n",
       "    <tr>\n",
       "      <th>159</th>\n",
       "      <td>2</td>\n",
       "    </tr>\n",
       "    <tr>\n",
       "      <th>362</th>\n",
       "      <td>9</td>\n",
       "    </tr>\n",
       "    <tr>\n",
       "      <th>...</th>\n",
       "      <td>...</td>\n",
       "    </tr>\n",
       "    <tr>\n",
       "      <th>29503</th>\n",
       "      <td>4</td>\n",
       "    </tr>\n",
       "    <tr>\n",
       "      <th>29730</th>\n",
       "      <td>7</td>\n",
       "    </tr>\n",
       "    <tr>\n",
       "      <th>29781</th>\n",
       "      <td>5</td>\n",
       "    </tr>\n",
       "    <tr>\n",
       "      <th>29854</th>\n",
       "      <td>4</td>\n",
       "    </tr>\n",
       "    <tr>\n",
       "      <th>29968</th>\n",
       "      <td>1</td>\n",
       "    </tr>\n",
       "  </tbody>\n",
       "</table>\n",
       "<p>5383 rows × 1 columns</p>\n",
       "</div>"
      ],
      "text/plain": [
       "       0\n",
       "5      2\n",
       "56     0\n",
       "148    7\n",
       "159    2\n",
       "362    9\n",
       "...   ..\n",
       "29503  4\n",
       "29730  7\n",
       "29781  5\n",
       "29854  4\n",
       "29968  1\n",
       "\n",
       "[5383 rows x 1 columns]"
      ]
     },
     "metadata": {},
     "output_type": "display_data"
    }
   ],
   "source": [
    "#df_x_train = pd.DataFrame(x_train.reshape(-1, 784))\n",
    "df_x_train_sv = pd.DataFrame(train_images).iloc[model_best.support_]\n",
    "print(\"sv x-train df\")\n",
    "display(df_x_train_sv)\n",
    "df_y_train_sv = pd.DataFrame(train_labels).iloc[model_best.support_]\n",
    "print(\"sv y-train df\")\n",
    "display(df_y_train_sv)"
   ]
  },
  {
   "cell_type": "code",
   "execution_count": 71,
   "metadata": {},
   "outputs": [
    {
     "name": "stdout",
     "output_type": "stream",
     "text": [
      "accuracy over train set 0.9585333333333333 \n",
      "\n",
      "accuracy over test set 0.9555 \n",
      "\n"
     ]
    }
   ],
   "source": [
    "model_sv = SVC(C=10, gamma=0.01, kernel=\"rbf\")\n",
    "\n",
    "model_sv.fit(df_x_train_sv,df_y_train_sv)\n",
    "y_pred_train = model_sv.predict(train_images)\n",
    "y_pred_test = model_sv.predict(test_images)\n",
    "\n",
    "print(\"accuracy over train set\", metrics.accuracy_score(train_labels, y_pred_train), \"\\n\")\n",
    "print(\"accuracy over test set\", metrics.accuracy_score(test_labels, y_pred_test), \"\\n\")"
   ]
  },
  {
   "cell_type": "code",
   "execution_count": null,
   "metadata": {},
   "outputs": [],
   "source": []
  }
 ],
 "metadata": {
  "kernelspec": {
   "display_name": "Python 3.10.4 64-bit",
   "language": "python",
   "name": "python3"
  },
  "language_info": {
   "codemirror_mode": {
    "name": "ipython",
    "version": 3
   },
   "file_extension": ".py",
   "mimetype": "text/x-python",
   "name": "python",
   "nbconvert_exporter": "python",
   "pygments_lexer": "ipython3",
   "version": "3.10.4"
  },
  "orig_nbformat": 4,
  "vscode": {
   "interpreter": {
    "hash": "916dbcbb3f70747c44a77c7bcd40155683ae19c65e1c03b4aa3499c5328201f1"
   }
  }
 },
 "nbformat": 4,
 "nbformat_minor": 2
}
